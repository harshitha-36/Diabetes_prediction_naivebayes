{
 "cells": [
  {
   "cell_type": "code",
   "execution_count": 1,
   "id": "2ee61efd",
   "metadata": {
    "_cell_guid": "b1076dfc-b9ad-4769-8c92-a6c4dae69d19",
    "_uuid": "8f2839f25d086af736a60e9eeb907d3b93b6e0e5",
    "execution": {
     "iopub.execute_input": "2024-02-09T18:17:09.637968Z",
     "iopub.status.busy": "2024-02-09T18:17:09.637335Z",
     "iopub.status.idle": "2024-02-09T18:17:09.652185Z",
     "shell.execute_reply": "2024-02-09T18:17:09.650862Z"
    },
    "papermill": {
     "duration": 0.024712,
     "end_time": "2024-02-09T18:17:09.655232",
     "exception": false,
     "start_time": "2024-02-09T18:17:09.630520",
     "status": "completed"
    },
    "tags": []
   },
   "outputs": [
    {
     "name": "stdout",
     "output_type": "stream",
     "text": [
      "/kaggle/input/diabetes-progression-b2/sample_submission.csv\n",
      "/kaggle/input/diabetes-progression-b2/train.csv\n",
      "/kaggle/input/diabetes-progression-b2/test.csv\n"
     ]
    }
   ],
   "source": [
    "# This Python 3 environment comes with many helpful analytics libraries installed\n",
    "# It is defined by the kaggle/python Docker image: https://github.com/kaggle/docker-python\n",
    "# For example, here's several helpful packages to load\n",
    "\n",
    "import numpy as np # linear algebra\n",
    "import pandas as pd # data processing, CSV file I/O (e.g. pd.read_csv)\n",
    "\n",
    "# Input data files are available in the read-only \"../input/\" directory\n",
    "# For example, running this (by clicking run or pressing Shift+Enter) will list all files under the input directory\n",
    "\n",
    "import os\n",
    "for dirname, _, filenames in os.walk('/kaggle/input'):\n",
    "    for filename in filenames:\n",
    "        print(os.path.join(dirname, filename))\n",
    "\n",
    "# You can write up to 20GB to the current directory (/kaggle/working/) that gets preserved as output when you create a version using \"Save & Run All\" \n",
    "# You can also write temporary files to /kaggle/temp/, but they won't be saved outside of the current session"
   ]
  },
  {
   "cell_type": "code",
   "execution_count": 2,
   "id": "ad61596c",
   "metadata": {
    "execution": {
     "iopub.execute_input": "2024-02-09T18:17:09.665761Z",
     "iopub.status.busy": "2024-02-09T18:17:09.665384Z",
     "iopub.status.idle": "2024-02-09T18:17:09.700514Z",
     "shell.execute_reply": "2024-02-09T18:17:09.699044Z"
    },
    "papermill": {
     "duration": 0.044184,
     "end_time": "2024-02-09T18:17:09.703889",
     "exception": false,
     "start_time": "2024-02-09T18:17:09.659705",
     "status": "completed"
    },
    "tags": []
   },
   "outputs": [],
   "source": [
    "train_data=pd.read_csv('/kaggle/input/diabetes-progression-b2/train.csv')\n",
    "test_data=pd.read_csv('/kaggle/input/diabetes-progression-b2/test.csv')"
   ]
  },
  {
   "cell_type": "code",
   "execution_count": 3,
   "id": "c555ec13",
   "metadata": {
    "execution": {
     "iopub.execute_input": "2024-02-09T18:17:09.715737Z",
     "iopub.status.busy": "2024-02-09T18:17:09.714611Z",
     "iopub.status.idle": "2024-02-09T18:17:11.331990Z",
     "shell.execute_reply": "2024-02-09T18:17:11.331106Z"
    },
    "papermill": {
     "duration": 1.626337,
     "end_time": "2024-02-09T18:17:11.335133",
     "exception": false,
     "start_time": "2024-02-09T18:17:09.708796",
     "status": "completed"
    },
    "tags": []
   },
   "outputs": [],
   "source": [
    "from sklearn.model_selection import cross_val_score, KFold\n",
    "from sklearn.linear_model import LinearRegression\n"
   ]
  },
  {
   "cell_type": "code",
   "execution_count": 4,
   "id": "c89f9277",
   "metadata": {
    "execution": {
     "iopub.execute_input": "2024-02-09T18:17:11.346199Z",
     "iopub.status.busy": "2024-02-09T18:17:11.345550Z",
     "iopub.status.idle": "2024-02-09T18:17:11.355192Z",
     "shell.execute_reply": "2024-02-09T18:17:11.354045Z"
    },
    "papermill": {
     "duration": 0.018557,
     "end_time": "2024-02-09T18:17:11.358198",
     "exception": false,
     "start_time": "2024-02-09T18:17:11.339641",
     "status": "completed"
    },
    "tags": []
   },
   "outputs": [],
   "source": [
    "X =train_data.iloc[:, :-1] \n",
    "y = train_data.iloc[:, -1] "
   ]
  },
  {
   "cell_type": "code",
   "execution_count": 5,
   "id": "8516a3bd",
   "metadata": {
    "execution": {
     "iopub.execute_input": "2024-02-09T18:17:11.368022Z",
     "iopub.status.busy": "2024-02-09T18:17:11.367415Z",
     "iopub.status.idle": "2024-02-09T18:17:11.372104Z",
     "shell.execute_reply": "2024-02-09T18:17:11.371258Z"
    },
    "papermill": {
     "duration": 0.012069,
     "end_time": "2024-02-09T18:17:11.374235",
     "exception": false,
     "start_time": "2024-02-09T18:17:11.362166",
     "status": "completed"
    },
    "tags": []
   },
   "outputs": [],
   "source": [
    "regressor = LinearRegression()"
   ]
  },
  {
   "cell_type": "code",
   "execution_count": 6,
   "id": "c16b228b",
   "metadata": {
    "execution": {
     "iopub.execute_input": "2024-02-09T18:17:11.383523Z",
     "iopub.status.busy": "2024-02-09T18:17:11.383116Z",
     "iopub.status.idle": "2024-02-09T18:17:11.388111Z",
     "shell.execute_reply": "2024-02-09T18:17:11.387355Z"
    },
    "papermill": {
     "duration": 0.012366,
     "end_time": "2024-02-09T18:17:11.390383",
     "exception": false,
     "start_time": "2024-02-09T18:17:11.378017",
     "status": "completed"
    },
    "tags": []
   },
   "outputs": [],
   "source": [
    "k=5"
   ]
  },
  {
   "cell_type": "code",
   "execution_count": 7,
   "id": "3bfd2955",
   "metadata": {
    "execution": {
     "iopub.execute_input": "2024-02-09T18:17:11.400160Z",
     "iopub.status.busy": "2024-02-09T18:17:11.399531Z",
     "iopub.status.idle": "2024-02-09T18:17:11.464154Z",
     "shell.execute_reply": "2024-02-09T18:17:11.462783Z"
    },
    "papermill": {
     "duration": 0.072786,
     "end_time": "2024-02-09T18:17:11.466928",
     "exception": false,
     "start_time": "2024-02-09T18:17:11.394142",
     "status": "completed"
    },
    "tags": []
   },
   "outputs": [],
   "source": [
    "kfold = KFold(n_splits=k, shuffle=True, random_state=42)\n",
    "scores = cross_val_score(regressor, X, y, cv=kfold, scoring='r2')"
   ]
  },
  {
   "cell_type": "code",
   "execution_count": null,
   "id": "a0d5fef0",
   "metadata": {
    "papermill": {
     "duration": 0.003399,
     "end_time": "2024-02-09T18:17:11.474260",
     "exception": false,
     "start_time": "2024-02-09T18:17:11.470861",
     "status": "completed"
    },
    "tags": []
   },
   "outputs": [],
   "source": []
  }
 ],
 "metadata": {
  "kaggle": {
   "accelerator": "none",
   "dataSources": [
    {
     "databundleVersionId": 5887598,
     "sourceId": 54063,
     "sourceType": "competition"
    }
   ],
   "dockerImageVersionId": 30497,
   "isGpuEnabled": false,
   "isInternetEnabled": true,
   "language": "python",
   "sourceType": "notebook"
  },
  "kernelspec": {
   "display_name": "Python 3",
   "language": "python",
   "name": "python3"
  },
  "language_info": {
   "codemirror_mode": {
    "name": "ipython",
    "version": 3
   },
   "file_extension": ".py",
   "mimetype": "text/x-python",
   "name": "python",
   "nbconvert_exporter": "python",
   "pygments_lexer": "ipython3",
   "version": "3.10.10"
  },
  "papermill": {
   "default_parameters": {},
   "duration": 17.80674,
   "end_time": "2024-02-09T18:17:12.502802",
   "environment_variables": {},
   "exception": null,
   "input_path": "__notebook__.ipynb",
   "output_path": "__notebook__.ipynb",
   "parameters": {},
   "start_time": "2024-02-09T18:16:54.696062",
   "version": "2.4.0"
  }
 },
 "nbformat": 4,
 "nbformat_minor": 5
}
